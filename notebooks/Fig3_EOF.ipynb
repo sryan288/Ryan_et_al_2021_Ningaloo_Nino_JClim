{
 "cells": [
  {
   "cell_type": "markdown",
   "metadata": {},
   "source": [
    "sryan: 2020-01-06 14:25:07 \n",
    "\n",
    "Perform EOF analysis for Ningaloo Nino for region 100-120E, 14-36S (as in Marshall et al. 2015).  \n",
    "\n",
    "Plot EOF spatial pattern and PC and compare PC with NNI.  \n",
    "\n",
    "First time EOF is also presented for salinity and salinity NNI is derived."
   ]
  },
  {
   "cell_type": "markdown",
   "metadata": {
    "toc": true
   },
   "source": [
    "<h1>Table of Contents<span class=\"tocSkip\"></span></h1>\n",
    "<div class=\"toc\"><ul class=\"toc-item\"><li><span><a href=\"#Load-data\" data-toc-modified-id=\"Load-data-1\"><span class=\"toc-item-num\">1&nbsp;&nbsp;</span>Load data</a></span></li><li><span><a href=\"#Detrending\" data-toc-modified-id=\"Detrending-2\"><span class=\"toc-item-num\">2&nbsp;&nbsp;</span>Detrending</a></span></li><li><span><a href=\"#Deseason\" data-toc-modified-id=\"Deseason-3\"><span class=\"toc-item-num\">3&nbsp;&nbsp;</span>Deseason</a></span><ul class=\"toc-item\"><li><span><a href=\"#Plot-removed-seasonal-cycle\" data-toc-modified-id=\"Plot-removed-seasonal-cycle-3.1\"><span class=\"toc-item-num\">3.1&nbsp;&nbsp;</span>Plot removed seasonal cycle</a></span></li></ul></li><li><span><a href=\"#EOF\" data-toc-modified-id=\"EOF-4\"><span class=\"toc-item-num\">4&nbsp;&nbsp;</span>EOF</a></span></li><li><span><a href=\"#Correlations\" data-toc-modified-id=\"Correlations-5\"><span class=\"toc-item-num\">5&nbsp;&nbsp;</span>Correlations</a></span></li><li><span><a href=\"#Plotting\" data-toc-modified-id=\"Plotting-6\"><span class=\"toc-item-num\">6&nbsp;&nbsp;</span>Plotting</a></span></li></ul></div>"
   ]
  },
  {
   "cell_type": "markdown",
   "metadata": {},
   "source": [
    "# Load data"
   ]
  },
  {
   "cell_type": "code",
   "execution_count": 1,
   "metadata": {
    "ExecuteTime": {
     "end_time": "2021-01-15T02:02:17.655735Z",
     "start_time": "2021-01-15T02:02:16.437295Z"
    }
   },
   "outputs": [],
   "source": [
    "from scipy import signal\n",
    "from scipy import stats\n",
    "from numpy.polynomial.polynomial import polyval,polyfit\n",
    "import matplotlib.dates as dates\n",
    "import matplotlib.pyplot as plt\n",
    "import matplotlib.ticker as mticker\n",
    "from eofs.xarray import Eof\n",
    "#from eofs.standard import Eof\n",
    "from scipy.io import loadmat\n",
    "import string                                    # for panel labels\n",
    "\n",
    "import sys\n",
    "sys.path.append(\"../\")  # adds upper level to working directory\n",
    "from utils.orca_utilities import orca_index,deseason_month,anomaly,mean_LC_width,load_orca_EIO,set_ylim_equal,crosscor\n",
    "\n",
    "import warnings\n",
    "warnings.filterwarnings(\"ignore\")\n",
    "import xarray as xr\n",
    "import numpy as np\n",
    "from pandas.plotting import register_matplotlib_converters\n",
    "register_matplotlib_converters()\n",
    "import cartopy.crs as ccrs\n",
    "from cartopy.mpl.gridliner import LONGITUDE_FORMATTER, LATITUDE_FORMATTER\n",
    "import matplotlib.patches as mpatches\n",
    "import cartopy\n",
    "from mpl_toolkits.axes_grid1.inset_locator import inset_axes\n",
    "\n",
    "################################\n",
    "# path to save plots\n",
    "plotsave = './plots'"
   ]
  },
  {
   "cell_type": "code",
   "execution_count": 2,
   "metadata": {
    "ExecuteTime": {
     "end_time": "2021-01-15T02:02:17.727011Z",
     "start_time": "2021-01-15T02:02:17.658188Z"
    }
   },
   "outputs": [],
   "source": [
    "# # HadISST\n",
    "# sst = xr.open_dataset('/vortex/clidex/data/obs/HadISST/HadISST_sst_monthly.nc')\n",
    "# sst = sst.where(sst['sst']>-10)\n",
    "# sst = sst.sel(time=slice('1958-01-01','2017-01-01'))\n",
    "\n",
    "# ORCA\n",
    "# NNI \n",
    "k003 = xr.open_dataset('../data/NNI_K003_22S_32S_110E_117W.nc')\n",
    "k003f = xr.open_dataset('../data/NNI_noanom_K003_22S_32S_110E_117W.nc')\n",
    "\n",
    "\n",
    "# only need surface layer for EOF (save memory)\n",
    "temp = xr.open_dataset('/home/sryan/Python/ORCA/NingalooNino/data/k003ts_temp_surface.nc')\n",
    "sal = xr.open_dataset('/home/sryan/Python/ORCA/NingalooNino/data/k003ts_sal_surface.nc')"
   ]
  },
  {
   "cell_type": "markdown",
   "metadata": {},
   "source": [
    "# Detrending"
   ]
  },
  {
   "cell_type": "code",
   "execution_count": 3,
   "metadata": {
    "ExecuteTime": {
     "end_time": "2021-01-15T02:02:21.407898Z",
     "start_time": "2021-01-15T02:02:17.729106Z"
    }
   },
   "outputs": [],
   "source": [
    "# sst[\"sst_detr\"]=(['time', 'latitude', 'longitude'],signal.detrend(sst['sst'].fillna(0),axis=0,type='linear'))\n",
    "temp[\"temp_detr\"]=(['time_counter', 'lat', 'lon'],signal.detrend(temp['votemper'].fillna(0),axis=0,type='linear'))\n",
    "sal[\"sal_detr\"]=(['time_counter', 'lat', 'lon'],signal.detrend(sal['vosaline'].fillna(0),axis=0,type='linear'))\n",
    "k003[\"vosaline_detr\"]=(['time_counter', 'deptht'],signal.detrend(k003['vosaline'].fillna(0),axis=0,type='linear'))\n",
    "k003[\"votemper_detr\"]=(['time_counter', 'deptht'],signal.detrend(k003['votemper'].fillna(0),axis=0,type='linear'))"
   ]
  },
  {
   "cell_type": "markdown",
   "metadata": {},
   "source": [
    "# Deseason"
   ]
  },
  {
   "cell_type": "code",
   "execution_count": 4,
   "metadata": {
    "ExecuteTime": {
     "end_time": "2021-01-15T02:02:25.794855Z",
     "start_time": "2021-01-15T02:02:21.412730Z"
    }
   },
   "outputs": [],
   "source": [
    "# keep separate so that removed seasonal cycle can be plotted\n",
    "# temperature\n",
    "dum1 = temp.groupby('time_counter.month')\n",
    "dum2_k003 = temp.groupby('time_counter.month').mean('time_counter')\n",
    "temp2 = dum1-dum2_k003\n",
    "\n",
    "# salinity\n",
    "dum1 = sal.groupby('time_counter.month')\n",
    "dum2 = sal.groupby('time_counter.month').mean('time_counter') \n",
    "sal2 = dum1-dum2\n",
    "\n",
    "# # HadISST\n",
    "# dum1 = sst.groupby('time.month')\n",
    "# dum2_sst = sst.groupby('time.month').mean('time') \n",
    "# sst2 = dum1-dum2_sst\n",
    "\n",
    "def drop_var(ds):\n",
    "    if 'time_centered' in list(ds.coords):\n",
    "        ds = ds.drop('month').drop('time_centered')\n",
    "    else:\n",
    "        ds = ds.drop('month')\n",
    "    return ds\n",
    "temp2 = drop_var(temp2)\n",
    "sal2 = drop_var(sal2)\n",
    "# sst2 = drop_var(sst2)"
   ]
  },
  {
   "cell_type": "markdown",
   "metadata": {},
   "source": [
    "## Plot removed seasonal cycle"
   ]
  },
  {
   "cell_type": "code",
   "execution_count": 5,
   "metadata": {
    "ExecuteTime": {
     "end_time": "2021-01-15T02:02:26.030122Z",
     "start_time": "2021-01-15T02:02:25.796901Z"
    }
   },
   "outputs": [
    {
     "data": {
      "text/plain": [
       "<matplotlib.legend.Legend at 0x7f8c00632c18>"
      ]
     },
     "execution_count": 5,
     "metadata": {},
     "output_type": "execute_result"
    },
    {
     "data": {
      "image/png": "[encoded data removed]",
      "text/plain": [
       "<Figure size 432x288 with 1 Axes>"
      ]
     },
     "metadata": {
      "needs_background": "light"
     },
     "output_type": "display_data"
    }
   ],
   "source": [
    "# quickly compare mean seasonal cycle at point\n",
    "# dum2_sst['sst'].sel(longitude=112,latitude=-27,method='nearest').plot(label='HadISST')\n",
    "dum2_k003['votemper'].sel(lon=112,lat=-27,method='nearest').plot(label='hindcast')\n",
    "plt.legend()"
   ]
  },
  {
   "cell_type": "markdown",
   "metadata": {},
   "source": [
    "Seasonal cycle reproduced well in model"
   ]
  },
  {
   "cell_type": "markdown",
   "metadata": {},
   "source": [
    "# EOF\n",
    "\n",
    "EOF performed as in Marshall et al. 2015  \n"
   ]
  },
  {
   "cell_type": "code",
   "execution_count": 6,
   "metadata": {
    "ExecuteTime": {
     "end_time": "2021-01-15T02:02:42.606001Z",
     "start_time": "2021-01-15T02:02:26.031883Z"
    }
   },
   "outputs": [],
   "source": [
    "# EOF analysis\n",
    "# sst = sst.where(sst!=0)\n",
    "lon_bnds = [100, 120]\n",
    "lat_bnds = [-36, -14]\n",
    "temp3 = temp2.where(temp2['votemper']!=0,drop=True).sel(lon=slice(lon_bnds[0],lon_bnds[1]),\n",
    "                                            lat=slice(lat_bnds[0],lat_bnds[1]))\n",
    "sal3 = sal2.where(sal2['vosaline']!=0,drop=True).sel(lon=slice(lon_bnds[0],lon_bnds[1]),\n",
    "                                            lat=slice(lat_bnds[0],lat_bnds[1]))\n",
    "# sst3 = sst2.where(sst2['sst']!=0,drop=True).sel(longitude=slice(lon_bnds[0],lon_bnds[1]),\n",
    "#                                             latitude=slice(lat_bnds[1],lat_bnds[0]))\n",
    "\n",
    "# temperature\n",
    "#Square-root of cosine of latitude weights are applied before the computation of EOFs.\n",
    "coslat = np.cos(np.deg2rad(temp3['lat'].values))\n",
    "coslat,_ = np.meshgrid(coslat,np.arange(0,len(temp3['lon'])))\n",
    "wgts = np.sqrt(coslat)\n",
    "solver = Eof(temp3['temp_detr'],weights=wgts.T)\n",
    "pcs1 = solver.pcs(npcs=4,pcscaling=1)\n",
    "eof1 = solver.eofsAsCovariance(neofs=4)\n",
    "varfr1 = solver.varianceFraction(neigs=10)\n",
    "eof1=eof1.where(eof1!=0)\n",
    "\n",
    "# salinity\n",
    "#Square-root of cosine of latitude weights are applied before the computation of EOFs.\n",
    "coslat = np.cos(np.deg2rad(sal3['lat'].values))\n",
    "coslat,_ = np.meshgrid(coslat,np.arange(0,len(sal3['lon'])))\n",
    "wgts = np.sqrt(coslat)\n",
    "solver = Eof(sal3['sal_detr'],weights=wgts.T)\n",
    "pcs2 = solver.pcs(npcs=4,pcscaling=1)\n",
    "eof2 = solver.eofsAsCovariance(neofs=4)\n",
    "varfr2 = solver.varianceFraction(neigs=10)\n",
    "eof2=eof2.where(eof2!=0)\n",
    "\n",
    "# # HadISST\n",
    "# #Square-root of cosine of latitude weights are applied before the computation of EOFs.\n",
    "# coslat = np.cos(np.deg2rad(sst3['latitude'].values))\n",
    "# coslat,_ = np.meshgrid(coslat,np.arange(0,len(sst3['longitude'])))\n",
    "# wgts = np.sqrt(coslat)\n",
    "# solver = Eof(sst3['sst_detr'],weights=wgts.T)\n",
    "# pcs3 = solver.pcs(npcs=4,pcscaling=1)\n",
    "# eof3 = solver.eofsAsCovariance(neofs=4)\n",
    "# varfr3 = solver.varianceFraction(neigs=10)\n",
    "# eof3=eof3.where(eof3!=0)\n",
    "# eof3.to_netcdf('../data/Fig3_eof_HadISST.nc')\n",
    "# pcs3.to_netcdf('../data/Fig3_pcs_HadISST.nc')"
   ]
  },
  {
   "cell_type": "markdown",
   "metadata": {},
   "source": [
    "# Correlations"
   ]
  },
  {
   "cell_type": "code",
   "execution_count": 7,
   "metadata": {
    "ExecuteTime": {
     "end_time": "2021-01-15T02:02:42.636790Z",
     "start_time": "2021-01-15T02:02:42.608240Z"
    }
   },
   "outputs": [
    {
     "name": "stdout",
     "output_type": "stream",
     "text": [
      "temp orca PC - NNI: (-0.8493691601535219, 4.0831134121234134e-198)\n",
      "\n",
      " sal orca PC - NNI: (-0.9181369820340897, 4.907314276598287e-286)\n"
     ]
    }
   ],
   "source": [
    "# temp orca: PC - NNI\n",
    "r_temp_pc_nni = crosscor(pcs1[:,0],k003['votemper_detr'][:,0])\n",
    "print('temp orca PC - NNI: ' + str(r_temp_pc_nni))\n",
    "\n",
    "# sal orca: PC - NNI\n",
    "r_sal_pc_nni = crosscor(pcs2[:,0],k003['vosaline_detr'][:,0])\n",
    "print('\\n sal orca PC - NNI: ' + str(r_sal_pc_nni))\n",
    "\n",
    "# # PC SST - NNI\n",
    "# r_pc_sst_nni = crosscor(pcs3[:,0],k003['votemper_detr'][:,0])\n",
    "# print('\\n PC SST - NNI: ' + str(r_pc_sst_nni))\n",
    "\n",
    "# # PC SST - PC emp\n",
    "# r_pc_sst_nni = crosscor(pcs3[:,0],pcs1[:,0])\n",
    "# print('\\n PC SST - PC temp: ' + str(r_pc_sst_nni))"
   ]
  },
  {
   "cell_type": "code",
   "execution_count": 8,
   "metadata": {
    "ExecuteTime": {
     "end_time": "2021-01-15T02:02:42.648905Z",
     "start_time": "2021-01-15T02:02:42.640036Z"
    }
   },
   "outputs": [],
   "source": [
    "# plt.figure(figsize=(15,4))\n",
    "# sst_nni = sst.sel(longitude=slice(110,117),latitude=slice(-22,-32)).mean(('latitude','longitude'))\n",
    "# sst_nni['sst'].plot(label='HadISST')\n",
    "# k003f['votemper'][:,0].plot(label='model 9m')\n",
    "# # nni_oisst['sst'].resample(time='1M').mean().plot()\n",
    "# plt.legend()\n",
    "\n",
    "\n",
    "# # correlation with PC\n",
    "# print('NNI temp & PC1 HadISST: ' + str(crosscor(pcs3[:,0],k003['votemper_detr'][:,0])))\n",
    "# print('NNI temp & PC1 hindcast: ' + str(crosscor(pcs1[:,0],k003['votemper_detr'][:,0])))\n",
    "\n",
    "# print('\\nNNI HadISST and modelled temp (9m):' + \n",
    "#      str(crosscor(sst_nni['sst'],k003f['votemper'][:,0])))\n",
    "\n",
    "# print('NNI temp & OISST: ' + str(crosscor(nni_oisst['sst'].sel(time=slice('1982-01-01','2016-12-31')).resample(time='1M').mean(),\n",
    "#                                           k003f['votemper'].sel(time_counter=slice('1982-01-01','2016-12-31'))[:,0])))\n"
   ]
  },
  {
   "cell_type": "markdown",
   "metadata": {},
   "source": [
    "# Plotting"
   ]
  },
  {
   "cell_type": "code",
   "execution_count": 13,
   "metadata": {
    "ExecuteTime": {
     "end_time": "2021-01-15T02:18:22.270991Z",
     "start_time": "2021-01-15T02:18:22.255782Z"
    }
   },
   "outputs": [],
   "source": [
    "# load HadISST data for plotting\n",
    "eof3 = xr.open_dataset('../data/Fig3_eof_HadISST.nc')['eofs']\n",
    "pcs3 = xr.open_dataset('../data/Fig3_pcs_HadISST.nc')['pcs']"
   ]
  },
  {
   "cell_type": "code",
   "execution_count": 15,
   "metadata": {
    "ExecuteTime": {
     "end_time": "2021-01-15T02:18:41.015227Z",
     "start_time": "2021-01-15T02:18:39.450397Z"
    }
   },
   "outputs": [
    {
     "data": {
      "image/png": "[encoded data removed]",
      "text/plain": [
       "<Figure size 576x648 with 9 Axes>"
      ]
     },
     "metadata": {
      "needs_background": "light"
     },
     "output_type": "display_data"
    }
   ],
   "source": [
    "# plot fields\n",
    "plt.close('all')\n",
    "proj = ccrs.PlateCarree()\n",
    "fig = plt.figure(figsize=(8,9))\n",
    "fs = 11\n",
    "plt.rcParams.update({'font.size':fs})\n",
    "cols = plt.get_cmap('tab10')\n",
    "\n",
    "# define sizes of subplots\n",
    "widths = [1,1,1]\n",
    "heights = [1,0.1,0.6,0.6]\n",
    "grid = fig.add_gridspec(ncols=3, nrows=4, width_ratios=widths,\n",
    "                          height_ratios=heights,wspace=0.05,hspace=0.05)\n",
    "\n",
    "# EOF patterns\n",
    "# fig,ax = plt.subplots(figsize=(10,3),ncols=3,constrained_layout=True,subplot_kw=dict(projection=proj))\n",
    "# plt.subplots_adjust(wspace=0.025,right=0.94)\n",
    "ax1 = fig.add_subplot(grid[0, 0],projection=proj)\n",
    "(eof3[0,:,:]*(-1)).plot(label='sst',ax=ax1,cmap=plt.get_cmap('RdYlBu_r',30),vmin=-0.45,vmax=0.45,add_colorbar=False)\n",
    "ax2 = fig.add_subplot(grid[0, 1],projection=proj)\n",
    "hh=(eof1[0,:,:]*(-1)).plot(label='temp',ax=ax2,cmap=plt.get_cmap('RdYlBu_r',30),vmin=-0.45,vmax=0.45,add_colorbar=False)\n",
    "ax3 = fig.add_subplot(grid[0, 2],projection=proj)\n",
    "hh1=(eof2[0,:,:]*(-1)).plot(label='sal',ax=ax3,cmap=plt.get_cmap('RdYlBu_r',30),vmin=-0.15,vmax=0.15,add_colorbar=False)\n",
    "\n",
    "ax1.set_title('HadISST',weight='bold')\n",
    "ax2.set_title('hindcast: temperature',weight='bold')\n",
    "ax3.set_title('hindcast: salinity',weight='bold')\n",
    "\n",
    "# colorbars\n",
    "cbaxes = fig.add_axes([0.18, 0.55, 0.4, 0.015])\n",
    "cb = plt.colorbar(hh, cax=cbaxes, orientation='horizontal')\n",
    "cbaxes = fig.add_axes([0.68, 0.55, 0.2, 0.015])\n",
    "cb = plt.colorbar(hh1, cax=cbaxes, orientation='horizontal')\n",
    "\n",
    "# cartopy features\n",
    "for ax,i in zip([ax1,ax2,ax3],range(3)):\n",
    "    ax.add_feature(cartopy.feature.LAND, color='lightgray')\n",
    "    gl = ax.gridlines(crs=proj, draw_labels=True,linewidth=1, color='gray', alpha=0.5, linestyle='--',\n",
    "                          xlocs=range(60,160,5),ylocs=range(-60,40,5))\n",
    "    ax.set_extent([100,120,-36,-14],crs=proj)\n",
    "    gl.ylabels_right = False\n",
    "    gl.xlabels_top = False\n",
    "    ax.coastlines(resolution='50m')\n",
    "    # mark NNI rectangle\n",
    "    ax.add_patch(mpatches.Rectangle(xy=[110, -32], width=7, height=10,\n",
    "                                        facecolor='none',edgecolor='k',linewidth=2,\n",
    "                                        transform=proj))\n",
    "    # take care of labels\n",
    "    gl.xformatter = LONGITUDE_FORMATTER\n",
    "    gl.xlabel_style = {'size':fs}\n",
    "    if i==0:\n",
    "        gl.yformatter = LATITUDE_FORMATTER\n",
    "        gl.ylabel_style = {'size':fs}\n",
    "    else:\n",
    "        gl.ylabels_left = False\n",
    "   \n",
    "\n",
    "# Principal Components & NNI time series\n",
    "# temp\n",
    "ax4 = fig.add_subplot(grid[2,0:3])\n",
    "(pcs3[:,0]*(-1)).plot(label='PC1 HadISST',ax=ax4,color=cols(1),linewidth=1)\n",
    "(pcs1[:,0]*(-1)).plot(label='PC1 hindcast',ax=ax4,color=cols(0),linewidth=1)\n",
    "ax4.set_xticklabels('')\n",
    "ax4.set_ylabel('PC1 temperature')\n",
    "set_ylim_equal('equal',ax4)\n",
    "\n",
    "# salinity\n",
    "ax5 = fig.add_subplot(grid[3,0:3])\n",
    "(pcs2[:,0]*(-1)).plot(ax=ax5,ylim=(-4,2.5),linewidth=1)\n",
    "ax5.set_ylabel('PC1 salinity')\n",
    "\n",
    "for ax in [ax4,ax5]:\n",
    "    ax.axhline(0)\n",
    "    ax.set_xlabel('')\n",
    "    ax.yaxis.grid()\n",
    "    ax.set_title('')\n",
    "for label in ax5.get_xticklabels():\n",
    "    label.set_ha(\"center\")\n",
    "    label.set_rotation(0)\n",
    "    \n",
    "# NNI temp\n",
    "ax42 = ax4.twinx()\n",
    "k003['votemper_detr'][:,0].plot(ax=ax42,color='indianred',label='NNI',linewidth=1)\n",
    "ax42.set_ylabel('temperature\\n anomaly [\\N{DEGREE SIGN}C]')\n",
    "ax42.set_xticklabels('')\n",
    "\n",
    "\n",
    "# NNI sal\n",
    "ax52 = ax5.twinx()\n",
    "k003['vosaline_detr'][:,0].plot(ax=ax52,color='indianred',ylim=(-0.4,0.25),linewidth=1)\n",
    "# set_ylim_equal('equal',ax42)\n",
    "ax52.set_ylabel('salinity\\n anomaly [psu]')\n",
    "\n",
    "for ax in [ax42,ax52]:\n",
    "    ax.yaxis.grid()\n",
    "    ax.set_title('')\n",
    "    ax.spines['right'].set_color('indianred')\n",
    "    ax.tick_params(axis='y', colors='indianred')\n",
    "\n",
    "# legend\n",
    "lg = fig.legend(ncol=3,loc=(0.22,0.27))\n",
    "# set the linewidth of each legend object\n",
    "for legobj in lg.legendHandles:\n",
    "    legobj.set_linewidth(2.0)\n",
    "    \n",
    "# panel labels\n",
    "ll=0\n",
    "for ax in [ax1,ax2,ax3]:\n",
    "    t = ax.text(0.03, 0.92, string.ascii_lowercase[ll]+')', transform=ax.transAxes, \n",
    "                    size=fs, weight='bold')\n",
    "    t.set_bbox(dict(facecolor='w',boxstyle='square,pad=0.2'))\n",
    "    ll=ll+1\n",
    "for ax in [ax4,ax5]:\n",
    "    t = ax.text(0.01, 0.9, string.ascii_lowercase[ll]+')', transform=ax.transAxes, \n",
    "                    size=fs, weight='bold')\n",
    "    t.set_bbox(dict(facecolor='w',boxstyle='square,pad=0.2'))\n",
    "    ll=ll+1\n",
    "\n",
    "# save figure\n",
    "# plt.savefig(plotsave + 'fig_EOF_mode0_HadISST_K003_detr.png',dpi=300,bbox_inches='tight')"
   ]
  }
 ],
 "metadata": {
  "kernelspec": {
   "display_name": "Python 3",
   "language": "python",
   "name": "python3"
  },
  "language_info": {
   "codemirror_mode": {
    "name": "ipython",
    "version": 3
   },
   "file_extension": ".py",
   "mimetype": "text/x-python",
   "name": "python",
   "nbconvert_exporter": "python",
   "pygments_lexer": "ipython3",
   "version": "3.7.3"
  },
  "toc": {
   "base_numbering": 1,
   "nav_menu": {},
   "number_sections": true,
   "sideBar": true,
   "skip_h1_title": false,
   "title_cell": "Table of Contents",
   "title_sidebar": "Contents",
   "toc_cell": true,
   "toc_position": {
    "height": "calc(100% - 180px)",
    "left": "10px",
    "top": "150px",
    "width": "166px"
   },
   "toc_section_display": true,
   "toc_window_display": true
  },
  "varInspector": {
   "cols": {
    "lenName": 16,
    "lenType": 16,
    "lenVar": 40
   },
   "kernels_config": {
    "python": {
     "delete_cmd_postfix": "",
     "delete_cmd_prefix": "del ",
     "library": "var_list.py",
     "varRefreshCmd": "print(var_dic_list())"
    },
    "r": {
     "delete_cmd_postfix": ") ",
     "delete_cmd_prefix": "rm(",
     "library": "var_list.r",
     "varRefreshCmd": "cat(var_dic_list()) "
    }
   },
   "types_to_exclude": [
    "module",
    "function",
    "builtin_function_or_method",
    "instance",
    "_Feature"
   ],
   "window_display": false
  }
 },
 "nbformat": 4,
 "nbformat_minor": 2
}
