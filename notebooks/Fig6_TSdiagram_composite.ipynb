{
 "cells": [
  {
   "cell_type": "markdown",
   "metadata": {},
   "source": [
    "# Fig 6: TS diagram: 2x2, NNI and LC for MHW and MCS\n"
   ]
  },
  {
   "cell_type": "code",
   "execution_count": 2,
   "metadata": {
    "ExecuteTime": {
     "end_time": "2021-01-18T17:43:53.184728Z",
     "start_time": "2021-01-18T17:43:51.807782Z"
    }
   },
   "outputs": [],
   "source": [
    "#%matplotlib widget \n",
    "%matplotlib inline\n",
    "\n",
    "import sys\n",
    "sys.path.append(\"../\")  # adds upper level to working directory\n",
    "# somehow the other way does not work\n",
    "from utils.orca_utilities import orca_index,deseason_month,anomaly,mean_LC_width,load_orca_EIO,deseason\n",
    "from utils.mhw_detection import detect_events\n",
    "\n",
    "import matplotlib.pyplot as plt\n",
    "import cmocean as cmo\n",
    "import numpy as np\n",
    "import xarray as xr\n",
    "import cartopy.crs as ccrs\n",
    "import matplotlib.patches as mpatches\n",
    "from cartopy.mpl.gridliner import LONGITUDE_FORMATTER, LATITUDE_FORMATTER\n",
    "import cartopy\n",
    "import warnings\n",
    "import seaborn as sns\n",
    "warnings.filterwarnings(\"ignore\")\n",
    "import calendar\n",
    "import string\n",
    "import seawater as sw\n",
    "import matplotlib.dates as mdates\n",
    "\n",
    "################################\n",
    "# path to save plots\n",
    "plotsave = './plots/'"
   ]
  },
  {
   "cell_type": "markdown",
   "metadata": {},
   "source": [
    "# Load data"
   ]
  },
  {
   "cell_type": "code",
   "execution_count": 4,
   "metadata": {
    "ExecuteTime": {
     "end_time": "2021-01-18T17:44:31.554754Z",
     "start_time": "2021-01-18T17:44:31.162625Z"
    }
   },
   "outputs": [
    {
     "name": "stdout",
     "output_type": "stream",
     "text": [
      "calculate monthly threshold\n"
     ]
    }
   ],
   "source": [
    "# full model data (EIO)\n",
    "#  load run by run and delete old file, as it seems as if influences speed\n",
    "[k003ts,_,_] = load_orca_EIO('K003.hindcast')\n",
    "# [k004ts,k004u,k004v] = load_orca_EIO('K004.thermhal90')\n",
    "# [k005ts,k005u,k005v] = load_orca_EIO('K005.wind90')\n",
    "\n",
    "# NNI \n",
    "k003f = xr.open_dataset('../data/NNI_noanom_K003_22S_32S_110E_117W.nc')\n",
    "k003 = xr.open_dataset('../data/NNI_K003_22S_32S_110E_117W.nc')\n",
    "\n",
    "# Leeuwin Current\n",
    "# load saved sata\n",
    "LC_k003 = xr.open_dataset('../data/LC_k003.nc')\n",
    "LC_k004 = xr.open_dataset('../data/LC_k004.nc')\n",
    "LC_k005 = xr.open_dataset('../data/LC_k005.nc')\n",
    "\n",
    "# detect events\n",
    "# define threshold\n",
    "pval = 10\n",
    "bool_mhw,bool_mcw = detect_events(k003,pval,0,'monthly')"
   ]
  },
  {
   "cell_type": "markdown",
   "metadata": {},
   "source": [
    "# TS diagram"
   ]
  },
  {
   "cell_type": "code",
   "execution_count": 5,
   "metadata": {
    "ExecuteTime": {
     "end_time": "2021-01-18T17:44:52.715628Z",
     "start_time": "2021-01-18T17:44:52.038483Z"
    }
   },
   "outputs": [],
   "source": [
    "# deseason LC data\n",
    "LC_dseas=deseason(LC_k003)\n",
    "\n",
    "# calculate density\n",
    "salm,tempm = np.meshgrid(np.arange(20,40,0.1),np.arange(0,34,1))\n",
    "dens = sw.pden(salm,tempm,0,0)-1000 # seems to be the same as gsw\n",
    "inc = 10\n",
    "depth = 800\n",
    "# which lat range in LC\n",
    "latrange = slice(-32,-22)\n",
    "\n",
    "\n",
    "# create time-mean fields for background reference \n",
    "# sal_mean = k003ts['vosaline'].mean('time_counter')\n",
    "# temp_mean = k003ts['votemper'].mean('time_counter')\n",
    "\n",
    "# # save as netcdf\n",
    "# sal_mean.to_netcdf('../k003_sal_time_mean.nc')\n",
    "# temp_mean.to_netcdf('../k003_temp_time_mean.nc')\n",
    "\n",
    "# load saved files\n",
    "sal_mean = xr.open_dataset('../k003_sal_time_mean.nc')\n",
    "temp_mean = xr.open_dataset('../k003_temp_time_mean.nc')"
   ]
  },
  {
   "cell_type": "code",
   "execution_count": 10,
   "metadata": {
    "ExecuteTime": {
     "end_time": "2021-01-18T17:59:19.057212Z",
     "start_time": "2021-01-18T17:59:18.019429Z"
    }
   },
   "outputs": [
    {
     "ename": "TypeError",
     "evalue": "unhashable type: 'slice'",
     "output_type": "error",
     "traceback": [
      "\u001b[0;31m---------------------------------------------------------------------------\u001b[0m",
      "\u001b[0;31mTypeError\u001b[0m                                 Traceback (most recent call last)",
      "\u001b[0;32m<ipython-input-10-88b87e2331ff>\u001b[0m in \u001b[0;36m<module>\u001b[0;34m\u001b[0m\n\u001b[1;32m     11\u001b[0m     \u001b[0;32mfor\u001b[0m \u001b[0mj\u001b[0m \u001b[0;32min\u001b[0m \u001b[0mrange\u001b[0m\u001b[0;34m(\u001b[0m\u001b[0;36m2\u001b[0m\u001b[0;34m)\u001b[0m\u001b[0;34m:\u001b[0m\u001b[0;34m\u001b[0m\u001b[0;34m\u001b[0m\u001b[0m\n\u001b[1;32m     12\u001b[0m         \u001b[0;31m# plot background and isopycnals\u001b[0m\u001b[0;34m\u001b[0m\u001b[0;34m\u001b[0m\u001b[0;34m\u001b[0m\u001b[0m\n\u001b[0;32m---> 13\u001b[0;31m         ax[i,j].plot(np.ravel(sal_mean[:,0:328:inc,0:301:inc]),\n\u001b[0m\u001b[1;32m     14\u001b[0m                      \u001b[0mnp\u001b[0m\u001b[0;34m.\u001b[0m\u001b[0mravel\u001b[0m\u001b[0;34m(\u001b[0m\u001b[0mtemp_mean\u001b[0m\u001b[0;34m[\u001b[0m\u001b[0;34m:\u001b[0m\u001b[0;34m,\u001b[0m\u001b[0;36m0\u001b[0m\u001b[0;34m:\u001b[0m\u001b[0;36m328\u001b[0m\u001b[0;34m:\u001b[0m\u001b[0minc\u001b[0m\u001b[0;34m,\u001b[0m\u001b[0;36m0\u001b[0m\u001b[0;34m:\u001b[0m\u001b[0;36m301\u001b[0m\u001b[0;34m:\u001b[0m\u001b[0minc\u001b[0m\u001b[0;34m]\u001b[0m\u001b[0;34m)\u001b[0m\u001b[0;34m,\u001b[0m\u001b[0;34m\u001b[0m\u001b[0;34m\u001b[0m\u001b[0m\n\u001b[1;32m     15\u001b[0m                  color='lightgray',marker='.',linestyle='',markersize=1)\n",
      "\u001b[0;32m~/miniconda3/envs/orca_ningaloo/lib/python3.7/site-packages/xarray/core/dataset.py\u001b[0m in \u001b[0;36m__getitem__\u001b[0;34m(self, key)\u001b[0m\n\u001b[1;32m   1243\u001b[0m             \u001b[0;32mreturn\u001b[0m \u001b[0mself\u001b[0m\u001b[0;34m.\u001b[0m\u001b[0m_construct_dataarray\u001b[0m\u001b[0;34m(\u001b[0m\u001b[0mkey\u001b[0m\u001b[0;34m)\u001b[0m\u001b[0;34m\u001b[0m\u001b[0;34m\u001b[0m\u001b[0m\n\u001b[1;32m   1244\u001b[0m         \u001b[0;32melse\u001b[0m\u001b[0;34m:\u001b[0m\u001b[0;34m\u001b[0m\u001b[0;34m\u001b[0m\u001b[0m\n\u001b[0;32m-> 1245\u001b[0;31m             \u001b[0;32mreturn\u001b[0m \u001b[0mself\u001b[0m\u001b[0;34m.\u001b[0m\u001b[0m_copy_listed\u001b[0m\u001b[0;34m(\u001b[0m\u001b[0mnp\u001b[0m\u001b[0;34m.\u001b[0m\u001b[0masarray\u001b[0m\u001b[0;34m(\u001b[0m\u001b[0mkey\u001b[0m\u001b[0;34m)\u001b[0m\u001b[0;34m)\u001b[0m\u001b[0;34m\u001b[0m\u001b[0;34m\u001b[0m\u001b[0m\n\u001b[0m\u001b[1;32m   1246\u001b[0m \u001b[0;34m\u001b[0m\u001b[0m\n\u001b[1;32m   1247\u001b[0m     \u001b[0;32mdef\u001b[0m \u001b[0m__setitem__\u001b[0m\u001b[0;34m(\u001b[0m\u001b[0mself\u001b[0m\u001b[0;34m,\u001b[0m \u001b[0mkey\u001b[0m\u001b[0;34m:\u001b[0m \u001b[0mHashable\u001b[0m\u001b[0;34m,\u001b[0m \u001b[0mvalue\u001b[0m\u001b[0;34m)\u001b[0m \u001b[0;34m->\u001b[0m \u001b[0;32mNone\u001b[0m\u001b[0;34m:\u001b[0m\u001b[0;34m\u001b[0m\u001b[0;34m\u001b[0m\u001b[0m\n",
      "\u001b[0;32m~/miniconda3/envs/orca_ningaloo/lib/python3.7/site-packages/xarray/core/dataset.py\u001b[0m in \u001b[0;36m_copy_listed\u001b[0;34m(self, names)\u001b[0m\n\u001b[1;32m   1117\u001b[0m         \u001b[0;32mfor\u001b[0m \u001b[0mname\u001b[0m \u001b[0;32min\u001b[0m \u001b[0mnames\u001b[0m\u001b[0;34m:\u001b[0m\u001b[0;34m\u001b[0m\u001b[0;34m\u001b[0m\u001b[0m\n\u001b[1;32m   1118\u001b[0m             \u001b[0;32mtry\u001b[0m\u001b[0;34m:\u001b[0m\u001b[0;34m\u001b[0m\u001b[0;34m\u001b[0m\u001b[0m\n\u001b[0;32m-> 1119\u001b[0;31m                 \u001b[0mvariables\u001b[0m\u001b[0;34m[\u001b[0m\u001b[0mname\u001b[0m\u001b[0;34m]\u001b[0m \u001b[0;34m=\u001b[0m \u001b[0mself\u001b[0m\u001b[0;34m.\u001b[0m\u001b[0m_variables\u001b[0m\u001b[0;34m[\u001b[0m\u001b[0mname\u001b[0m\u001b[0;34m]\u001b[0m\u001b[0;34m\u001b[0m\u001b[0;34m\u001b[0m\u001b[0m\n\u001b[0m\u001b[1;32m   1120\u001b[0m             \u001b[0;32mexcept\u001b[0m \u001b[0mKeyError\u001b[0m\u001b[0;34m:\u001b[0m\u001b[0;34m\u001b[0m\u001b[0;34m\u001b[0m\u001b[0m\n\u001b[1;32m   1121\u001b[0m                 ref_name, var_name, var = _get_virtual_variable(\n",
      "\u001b[0;31mTypeError\u001b[0m: unhashable type: 'slice'"
     ]
    },
    {
     "data": {
      "image/png": "[encoded data removed]",
      "text/plain": [
       "<Figure size 504x576 with 4 Axes>"
      ]
     },
     "metadata": {
      "needs_background": "light"
     },
     "output_type": "display_data"
    }
   ],
   "source": [
    "# plotting\n",
    "fig,ax = plt.subplots(ncols=2,nrows=2,figsize=(7,8),constrained_layout=True,sharey=True,sharex=True)\n",
    "plt.subplots_adjust(wspace=0.03,right=0.94,hspace=0.03)\n",
    "fs = 12\n",
    "plt.rcParams.update({'font.size':fs})\n",
    "vmin = -1.5; vmax = 2; pivot = 0 \n",
    "cmap = cmo.tools.crop(cmo.cm.balance, vmin, vmax, pivot) \n",
    "\n",
    "ll=0\n",
    "for i in range(2):\n",
    "    for j in range(2):\n",
    "        # plot background and isopycnals\n",
    "        ax[i,j].plot(np.ravel(sal_mean[:,0:328:inc,0:301:inc]),\n",
    "                     np.ravel(temp_mean[:,0:328:inc,0:301:inc]),\n",
    "                 color='lightgray',marker='.',linestyle='',markersize=1)\n",
    "        ax[i,j].set_xlim(33.7,36.25)\n",
    "        ax[i,j].set_ylim(13,32)\n",
    "        #isopycnals\n",
    "        cc = ax[i,j].contour(salm,tempm,dens,np.arange(10,30,1),colors='gray')\n",
    "        ax[i,j].clabel(cc, fmt='%2.1f', colors='gray', fontsize=10)\n",
    "        ax[i,j].grid()\n",
    "        t = ax[i,j].text(0.02, 0.93, string.ascii_lowercase[ll]+')', transform=ax[i,j].transAxes, \n",
    "                size=11, weight='bold')\n",
    "        t.set_bbox(dict(facecolor='w',boxstyle='square,pad=0.2'))\n",
    "        ll = ll+1\n",
    "\n",
    "# NNI box\n",
    "ax[0,0].scatter(np.ravel((k003f['vosaline'].sel(deptht=slice(0,depth))*bool_mhw).dropna(dim='time_counter')),\n",
    "         np.ravel((k003f['votemper'].sel(deptht=slice(0,depth))*bool_mhw).dropna(dim='time_counter')),\n",
    "         s=5,c=np.ravel((k003['votemper'].sel(deptht=slice(0,depth))*bool_mhw).dropna(dim='time_counter')),\n",
    "         marker='o',cmap=cmap,zorder=10,\n",
    "         vmin=-1.5,vmax=2)\n",
    "cc = ax[0,1].scatter(np.ravel((k003f['vosaline'].sel(deptht=slice(0,depth))*bool_mcw).dropna(dim='time_counter')),\n",
    "         np.ravel((k003f['votemper'].sel(deptht=slice(0,depth))*bool_mcw).dropna(dim='time_counter')),\n",
    "         s=5,c=np.ravel((k003['votemper'].sel(deptht=slice(0,depth))*bool_mcw).dropna(dim='time_counter')),\n",
    "         marker='o',cmap=cmap,zorder=10,\n",
    "         vmin=-1.5,vmax=2)\n",
    "\n",
    "# Leeuwin Current\n",
    "ax[1,0].scatter(np.ravel((LC_k003['vosaline'].sel(deptht=slice(0,depth),lat=latrange)*bool_mhw).dropna(dim='time_counter')),\n",
    "         np.ravel((LC_k003['votemper'].sel(deptht=slice(0,depth),lat=latrange)*bool_mhw).dropna(dim='time_counter')),\n",
    "         s=5,c=np.ravel((LC_dseas['votemper'].sel(deptht=slice(0,depth),lat=latrange)*bool_mhw).dropna(dim='time_counter')),\n",
    "         marker='o',cmap=cmap,zorder=10,\n",
    "         vmin=-1.5,vmax=2)\n",
    "cc = ax[1,1].scatter(np.ravel((LC_k003['vosaline'].sel(deptht=slice(0,depth),lat=latrange)*bool_mcw).dropna(dim='time_counter')),\n",
    "         np.ravel((LC_k003['votemper'].sel(deptht=slice(0,depth),lat=latrange)*bool_mcw).dropna(dim='time_counter')),\n",
    "         s=5,c=np.ravel((LC_dseas['votemper'].sel(deptht=slice(0,depth),lat=latrange)*bool_mcw).dropna(dim='time_counter')),\n",
    "         marker='o',cmap=cmap,zorder=10,\n",
    "         vmin=-1.5,vmax=2)\n",
    "\n",
    "# axis properties\n",
    "cbaxes = fig.add_axes([0.96, 0.25, 0.015, 0.5])\n",
    "cb = plt.colorbar(cc, cax=cbaxes, orientation='vertical',label='temperature anomaly [\\N{DEGREE SIGN}C]')\n",
    "ax[1,0].set_xlabel('salinity [psu]')\n",
    "ax[1,1].set_xlabel('salinity [psu]')\n",
    "ax[0,0].set_ylabel('temperature [\\N{DEGREE SIGN}C]')\n",
    "ax[1,0].set_ylabel('temperature [\\N{DEGREE SIGN}C]')\n",
    "# ax[1].set_xlabel('salinity')\n",
    "ax[0,0].set_title('Heatwaves',weight='bold')\n",
    "ax[0,1].set_title('Cold spells',weight='bold')\n",
    "\n",
    "# add text for rows\n",
    "t = plt.text(0.51, 0.8, 'NNI', transform=plt.gcf().transFigure,\n",
    "                size=12, weight='bold',zorder=10)\n",
    "t.set_bbox(dict(facecolor='w',boxstyle='square,pad=0.2'))\n",
    "t = plt.text(0.43, 0.42, 'Leeuwin Current', transform=plt.gcf().transFigure,\n",
    "                size=12, weight='bold',zorder=10)\n",
    "t.set_bbox(dict(facecolor='w',boxstyle='square,pad=0.2'))\n",
    "\n",
    "# plt.savefig(plotsave + 'fig6_ts_NNI_LC_mhw_mcw.png',dpi=300,bbox_inches='tight')"
   ]
  }
 ],
 "metadata": {
  "kernelspec": {
   "display_name": "Python 3",
   "language": "python",
   "name": "python3"
  },
  "language_info": {
   "codemirror_mode": {
    "name": "ipython",
    "version": 3
   },
   "file_extension": ".py",
   "mimetype": "text/x-python",
   "name": "python",
   "nbconvert_exporter": "python",
   "pygments_lexer": "ipython3",
   "version": "3.7.3"
  },
  "toc": {
   "base_numbering": 1,
   "nav_menu": {},
   "number_sections": true,
   "sideBar": true,
   "skip_h1_title": false,
   "title_cell": "Table of Contents",
   "title_sidebar": "Contents",
   "toc_cell": false,
   "toc_position": {
    "height": "calc(100% - 180px)",
    "left": "10px",
    "top": "150px",
    "width": "384px"
   },
   "toc_section_display": true,
   "toc_window_display": true
  }
 },
 "nbformat": 4,
 "nbformat_minor": 2
}
